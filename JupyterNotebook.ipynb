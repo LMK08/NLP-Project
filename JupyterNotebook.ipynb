{
 "cells": [
  {
   "cell_type": "markdown",
   "id": "166e7923-1016-4764-85d4-b77e08a8231c",
   "metadata": {},
   "source": [
    "# NLP Modeling | Lucas Kimball | Oct 2023 | Phase 4 Project | Flatiron School"
   ]
  },
  {
   "cell_type": "markdown",
   "id": "d587d3dd-7c42-47ad-aefc-e015ef158abf",
   "metadata": {},
   "source": [
    "# Business Problem"
   ]
  },
  {
   "cell_type": "markdown",
   "id": "201e91fd-3a9a-4b74-a960-b25db7f74e26",
   "metadata": {},
   "source": [
    "The New York Times is writing an article comparing Apple and Google. They want cold hard data to back up what they say about public sentiment towards these companies and they've hired me to provide them that information. They want a model that can classify tweets as positive, negative, or neutral towards these companies and one that will work on the much larger database or tweets NYT has already got their hands on. "
   ]
  },
  {
   "cell_type": "markdown",
   "id": "6d20c0ff-8915-4909-88bf-e63c206ad97f",
   "metadata": {},
   "source": [
    "# Data Source"
   ]
  },
  {
   "cell_type": "markdown",
   "id": "d4219c8c-c016-4361-af63-43412778fa89",
   "metadata": {},
   "source": [
    "The dataset comes from CrowdFlower via data.world. Human raters rated the sentiment in over 9,000 Tweets as positive, negative, or neither."
   ]
  },
  {
   "cell_type": "markdown",
   "id": "a709af3c-ee58-4353-a24e-c1b0a99baea8",
   "metadata": {},
   "source": [
    "## Exploring the Data "
   ]
  },
  {
   "cell_type": "code",
   "execution_count": 62,
   "id": "85dc809b-7036-4240-ba94-7a4b0b2841b3",
   "metadata": {},
   "outputs": [
    {
     "name": "stderr",
     "output_type": "stream",
     "text": [
      "[nltk_data] Downloading package punkt to /Users/lkimball/nltk_data...\n",
      "[nltk_data]   Package punkt is already up-to-date!\n"
     ]
    }
   ],
   "source": [
    "import pandas as pd\n",
    "import matplotlib.pyplot as plt\n",
    "\n",
    "import nltk\n",
    "nltk.download('punkt')\n",
    "from nltk.corpus import stopwords\n",
    "import string\n",
    "from nltk.tokenize import word_tokenize\n",
    "\n",
    "\n",
    "import numpy as np\n",
    "from sklearn.model_selection import train_test_split\n",
    "from sklearn.feature_extraction.text import CountVectorizer, TfidfVectorizer\n",
    "from sklearn.model_selection import GridSearchCV\n",
    "from sklearn.pipeline import Pipeline\n",
    "from sklearn.naive_bayes import MultinomialNB\n",
    "from sklearn.linear_model import LogisticRegression\n",
    "from sklearn.ensemble import RandomForestClassifier\n",
    "from sklearn.metrics import roc_auc_score, roc_curve, auc\n",
    "from nltk.stem import PorterStemmer, WordNetLemmatizer\n",
    "from sklearn.preprocessing import FunctionTransformer\n",
    "from sklearn.base import BaseEstimator, TransformerMixin"
   ]
  },
  {
   "cell_type": "code",
   "execution_count": 2,
   "id": "97683a15-4abe-4e24-8529-0b49daacaf47",
   "metadata": {},
   "outputs": [],
   "source": [
    "df = pd.read_csv('judge-1377884607_tweet_product_company.csv', encoding='latin1')"
   ]
  },
  {
   "cell_type": "code",
   "execution_count": 3,
   "id": "6fdd64f4-79ea-4ec7-8a87-38ca31434003",
   "metadata": {},
   "outputs": [
    {
     "data": {
      "text/html": [
       "<div>\n",
       "<style scoped>\n",
       "    .dataframe tbody tr th:only-of-type {\n",
       "        vertical-align: middle;\n",
       "    }\n",
       "\n",
       "    .dataframe tbody tr th {\n",
       "        vertical-align: top;\n",
       "    }\n",
       "\n",
       "    .dataframe thead th {\n",
       "        text-align: right;\n",
       "    }\n",
       "</style>\n",
       "<table border=\"1\" class=\"dataframe\">\n",
       "  <thead>\n",
       "    <tr style=\"text-align: right;\">\n",
       "      <th></th>\n",
       "      <th>tweet_text</th>\n",
       "      <th>emotion_in_tweet_is_directed_at</th>\n",
       "      <th>is_there_an_emotion_directed_at_a_brand_or_product</th>\n",
       "    </tr>\n",
       "  </thead>\n",
       "  <tbody>\n",
       "    <tr>\n",
       "      <th>0</th>\n",
       "      <td>.@wesley83 I have a 3G iPhone. After 3 hrs twe...</td>\n",
       "      <td>iPhone</td>\n",
       "      <td>Negative emotion</td>\n",
       "    </tr>\n",
       "    <tr>\n",
       "      <th>1</th>\n",
       "      <td>@jessedee Know about @fludapp ? Awesome iPad/i...</td>\n",
       "      <td>iPad or iPhone App</td>\n",
       "      <td>Positive emotion</td>\n",
       "    </tr>\n",
       "    <tr>\n",
       "      <th>2</th>\n",
       "      <td>@swonderlin Can not wait for #iPad 2 also. The...</td>\n",
       "      <td>iPad</td>\n",
       "      <td>Positive emotion</td>\n",
       "    </tr>\n",
       "    <tr>\n",
       "      <th>3</th>\n",
       "      <td>@sxsw I hope this year's festival isn't as cra...</td>\n",
       "      <td>iPad or iPhone App</td>\n",
       "      <td>Negative emotion</td>\n",
       "    </tr>\n",
       "    <tr>\n",
       "      <th>4</th>\n",
       "      <td>@sxtxstate great stuff on Fri #SXSW: Marissa M...</td>\n",
       "      <td>Google</td>\n",
       "      <td>Positive emotion</td>\n",
       "    </tr>\n",
       "  </tbody>\n",
       "</table>\n",
       "</div>"
      ],
      "text/plain": [
       "                                          tweet_text  \\\n",
       "0  .@wesley83 I have a 3G iPhone. After 3 hrs twe...   \n",
       "1  @jessedee Know about @fludapp ? Awesome iPad/i...   \n",
       "2  @swonderlin Can not wait for #iPad 2 also. The...   \n",
       "3  @sxsw I hope this year's festival isn't as cra...   \n",
       "4  @sxtxstate great stuff on Fri #SXSW: Marissa M...   \n",
       "\n",
       "  emotion_in_tweet_is_directed_at  \\\n",
       "0                          iPhone   \n",
       "1              iPad or iPhone App   \n",
       "2                            iPad   \n",
       "3              iPad or iPhone App   \n",
       "4                          Google   \n",
       "\n",
       "  is_there_an_emotion_directed_at_a_brand_or_product  \n",
       "0                                   Negative emotion  \n",
       "1                                   Positive emotion  \n",
       "2                                   Positive emotion  \n",
       "3                                   Negative emotion  \n",
       "4                                   Positive emotion  "
      ]
     },
     "execution_count": 3,
     "metadata": {},
     "output_type": "execute_result"
    }
   ],
   "source": [
    "df.head()"
   ]
  },
  {
   "cell_type": "code",
   "execution_count": 4,
   "id": "6736cb93-7ed6-4d21-b5d6-8395030ed908",
   "metadata": {},
   "outputs": [
    {
     "name": "stdout",
     "output_type": "stream",
     "text": [
      "<class 'pandas.core.frame.DataFrame'>\n",
      "RangeIndex: 9093 entries, 0 to 9092\n",
      "Data columns (total 3 columns):\n",
      " #   Column                                              Non-Null Count  Dtype \n",
      "---  ------                                              --------------  ----- \n",
      " 0   tweet_text                                          9092 non-null   object\n",
      " 1   emotion_in_tweet_is_directed_at                     3291 non-null   object\n",
      " 2   is_there_an_emotion_directed_at_a_brand_or_product  9093 non-null   object\n",
      "dtypes: object(3)\n",
      "memory usage: 213.2+ KB\n"
     ]
    }
   ],
   "source": [
    "df.info()"
   ]
  },
  {
   "cell_type": "code",
   "execution_count": 5,
   "id": "7ed6f133-ccd3-47b2-86a8-c0ae427867a9",
   "metadata": {},
   "outputs": [
    {
     "data": {
      "text/plain": [
       "iPad                               946\n",
       "Apple                              661\n",
       "iPad or iPhone App                 470\n",
       "Google                             430\n",
       "iPhone                             297\n",
       "Other Google product or service    293\n",
       "Android App                         81\n",
       "Android                             78\n",
       "Other Apple product or service      35\n",
       "Name: emotion_in_tweet_is_directed_at, dtype: int64"
      ]
     },
     "execution_count": 5,
     "metadata": {},
     "output_type": "execute_result"
    }
   ],
   "source": [
    "df['emotion_in_tweet_is_directed_at'].value_counts()"
   ]
  },
  {
   "cell_type": "code",
   "execution_count": 6,
   "id": "496cbc6f-54eb-4b0e-8b7b-2e8af9754d0d",
   "metadata": {},
   "outputs": [
    {
     "data": {
      "text/plain": [
       "No emotion toward brand or product    5389\n",
       "Positive emotion                      2978\n",
       "Negative emotion                       570\n",
       "I can't tell                           156\n",
       "Name: is_there_an_emotion_directed_at_a_brand_or_product, dtype: int64"
      ]
     },
     "execution_count": 6,
     "metadata": {},
     "output_type": "execute_result"
    }
   ],
   "source": [
    "df['is_there_an_emotion_directed_at_a_brand_or_product'].value_counts()"
   ]
  },
  {
   "cell_type": "markdown",
   "id": "4e65b695-8dad-4617-b9d4-392b51691c96",
   "metadata": {},
   "source": [
    "## Data Cleaning"
   ]
  },
  {
   "cell_type": "code",
   "execution_count": 7,
   "id": "bb1a9abf-4669-4c75-8e0a-13aad03d2f03",
   "metadata": {},
   "outputs": [],
   "source": [
    "# Use dropna to remove rows with NaN values in the specified column\n",
    "df.dropna(subset=['tweet_text'], inplace=True)"
   ]
  },
  {
   "cell_type": "code",
   "execution_count": 8,
   "id": "ee72f260-119b-4c0c-8be3-63c858234c07",
   "metadata": {},
   "outputs": [],
   "source": [
    "# Define a function to clean the text\n",
    "def clean_text(text):\n",
    "    # Convert text to lowercase\n",
    "    text = text.lower()\n",
    "    # Remove punctuation\n",
    "    text = ''.join([char for char in text if char not in string.punctuation])\n",
    "    # Tokenize the text\n",
    "    words = nltk.word_tokenize(text)\n",
    "    # Remove stop words\n",
    "    words = [word for word in words if word not in stopwords.words('english')]\n",
    "    # Rejoin the words into a cleaned text\n",
    "    cleaned_text = ' '.join(words)\n",
    "    return cleaned_text\n",
    "\n",
    "# Apply the cleaning function \n",
    "\n",
    "df['tweet_text'] = df['tweet_text'].apply(clean_text)"
   ]
  },
  {
   "cell_type": "code",
   "execution_count": 9,
   "id": "fc792792-2b9b-4953-8cd0-d7a08f5c80a6",
   "metadata": {},
   "outputs": [
    {
     "data": {
      "text/html": [
       "<div>\n",
       "<style scoped>\n",
       "    .dataframe tbody tr th:only-of-type {\n",
       "        vertical-align: middle;\n",
       "    }\n",
       "\n",
       "    .dataframe tbody tr th {\n",
       "        vertical-align: top;\n",
       "    }\n",
       "\n",
       "    .dataframe thead th {\n",
       "        text-align: right;\n",
       "    }\n",
       "</style>\n",
       "<table border=\"1\" class=\"dataframe\">\n",
       "  <thead>\n",
       "    <tr style=\"text-align: right;\">\n",
       "      <th></th>\n",
       "      <th>tweet_text</th>\n",
       "      <th>emotion_in_tweet_is_directed_at</th>\n",
       "      <th>is_there_an_emotion_directed_at_a_brand_or_product</th>\n",
       "    </tr>\n",
       "  </thead>\n",
       "  <tbody>\n",
       "    <tr>\n",
       "      <th>0</th>\n",
       "      <td>wesley83 3g iphone 3 hrs tweeting riseaustin d...</td>\n",
       "      <td>iPhone</td>\n",
       "      <td>Negative emotion</td>\n",
       "    </tr>\n",
       "    <tr>\n",
       "      <th>1</th>\n",
       "      <td>jessedee know fludapp awesome ipadiphone app y...</td>\n",
       "      <td>iPad or iPhone App</td>\n",
       "      <td>Positive emotion</td>\n",
       "    </tr>\n",
       "    <tr>\n",
       "      <th>2</th>\n",
       "      <td>swonderlin wait ipad 2 also sale sxsw</td>\n",
       "      <td>iPad</td>\n",
       "      <td>Positive emotion</td>\n",
       "    </tr>\n",
       "    <tr>\n",
       "      <th>3</th>\n",
       "      <td>sxsw hope years festival isnt crashy years iph...</td>\n",
       "      <td>iPad or iPhone App</td>\n",
       "      <td>Negative emotion</td>\n",
       "    </tr>\n",
       "    <tr>\n",
       "      <th>4</th>\n",
       "      <td>sxtxstate great stuff fri sxsw marissa mayer g...</td>\n",
       "      <td>Google</td>\n",
       "      <td>Positive emotion</td>\n",
       "    </tr>\n",
       "  </tbody>\n",
       "</table>\n",
       "</div>"
      ],
      "text/plain": [
       "                                          tweet_text  \\\n",
       "0  wesley83 3g iphone 3 hrs tweeting riseaustin d...   \n",
       "1  jessedee know fludapp awesome ipadiphone app y...   \n",
       "2              swonderlin wait ipad 2 also sale sxsw   \n",
       "3  sxsw hope years festival isnt crashy years iph...   \n",
       "4  sxtxstate great stuff fri sxsw marissa mayer g...   \n",
       "\n",
       "  emotion_in_tweet_is_directed_at  \\\n",
       "0                          iPhone   \n",
       "1              iPad or iPhone App   \n",
       "2                            iPad   \n",
       "3              iPad or iPhone App   \n",
       "4                          Google   \n",
       "\n",
       "  is_there_an_emotion_directed_at_a_brand_or_product  \n",
       "0                                   Negative emotion  \n",
       "1                                   Positive emotion  \n",
       "2                                   Positive emotion  \n",
       "3                                   Negative emotion  \n",
       "4                                   Positive emotion  "
      ]
     },
     "execution_count": 9,
     "metadata": {},
     "output_type": "execute_result"
    }
   ],
   "source": [
    "df.head()"
   ]
  },
  {
   "cell_type": "code",
   "execution_count": 10,
   "id": "7875f6dc-76a2-4101-b67f-ffb7e34c5612",
   "metadata": {},
   "outputs": [],
   "source": [
    "# Renaming a column\n",
    "new_column_name = 'emotion'\n",
    "df.rename(columns={'is_there_an_emotion_directed_at_a_brand_or_product': new_column_name}, inplace=True)"
   ]
  },
  {
   "cell_type": "code",
   "execution_count": 11,
   "id": "35680255-84b5-43af-ba87-519c86900d73",
   "metadata": {},
   "outputs": [],
   "source": [
    "# Renaming a column\n",
    "new_column_name = 'company'\n",
    "df.rename(columns={'emotion_in_tweet_is_directed_at': new_column_name}, inplace=True)"
   ]
  },
  {
   "cell_type": "code",
   "execution_count": 12,
   "id": "a2b925f9-6468-4dad-a435-03b469b5c79e",
   "metadata": {},
   "outputs": [],
   "source": [
    "# Define a function to classify values into buckets\n",
    "def classify_into_buckets(value):\n",
    "    if isinstance(value, str):\n",
    "        if 'iPad' in value or 'Apple' in value or 'iPad App' in value or 'iPhone App' in value or 'iPhone' in value or 'Other Apple product' in value:\n",
    "            return 'Apple'\n",
    "        elif 'Google' in value or 'Other Google product' in value:\n",
    "            return 'Google'\n",
    "        elif 'Android' in value or 'Android App' in value:\n",
    "            return 'Android'\n",
    "    return 'Other'  # Assign 'Other' to non-string or missing (NaN) values\n",
    "\n",
    "# Create a new column with the categorized values\n",
    "df['category'] = df['company'].apply(classify_into_buckets)\n"
   ]
  },
  {
   "cell_type": "code",
   "execution_count": 15,
   "id": "fccb80cf-2539-4cf0-b7cc-82bc6480e40a",
   "metadata": {},
   "outputs": [
    {
     "data": {
      "text/plain": [
       "iPad                               946\n",
       "Apple                              661\n",
       "iPad or iPhone App                 470\n",
       "Google                             430\n",
       "iPhone                             297\n",
       "Other Google product or service    293\n",
       "Android App                         81\n",
       "Android                             78\n",
       "Other Apple product or service      35\n",
       "Name: company, dtype: int64"
      ]
     },
     "execution_count": 15,
     "metadata": {},
     "output_type": "execute_result"
    }
   ],
   "source": [
    "df['company'].value_counts()"
   ]
  },
  {
   "cell_type": "code",
   "execution_count": 16,
   "id": "fd236cd0-ed71-480b-9ed6-76a9f819ece7",
   "metadata": {},
   "outputs": [
    {
     "data": {
      "text/plain": [
       "Other      5801\n",
       "Apple      2409\n",
       "Google      723\n",
       "Android     159\n",
       "Name: category, dtype: int64"
      ]
     },
     "execution_count": 16,
     "metadata": {},
     "output_type": "execute_result"
    }
   ],
   "source": [
    "df['category'].value_counts()"
   ]
  },
  {
   "cell_type": "code",
   "execution_count": 19,
   "id": "25cb1431-6f96-47d9-9b45-b26838648e62",
   "metadata": {},
   "outputs": [],
   "source": [
    "# Drop records with 'Other' or 'Android' in the 'company' column\n",
    "df = df[~df['category'].isin(['Other', 'Android'])]"
   ]
  },
  {
   "cell_type": "code",
   "execution_count": 22,
   "id": "dd87ad98-f5ac-4719-b4d7-f13d0f6cde77",
   "metadata": {},
   "outputs": [],
   "source": [
    "# Drop the 'company' column\n",
    "df = df.drop('company', axis=1)"
   ]
  },
  {
   "cell_type": "code",
   "execution_count": 26,
   "id": "e1e31bb8-5cab-4516-93eb-9d2c28e113e4",
   "metadata": {},
   "outputs": [
    {
     "data": {
      "text/plain": [
       "Positive        2531\n",
       "Negative         503\n",
       "Neutral           89\n",
       "I can't tell       9\n",
       "Name: emotion, dtype: int64"
      ]
     },
     "execution_count": 26,
     "metadata": {},
     "output_type": "execute_result"
    }
   ],
   "source": [
    "df['emotion'].value_counts()"
   ]
  },
  {
   "cell_type": "code",
   "execution_count": 30,
   "id": "12f2d5e8-6b40-46f2-96b2-7e8985447098",
   "metadata": {},
   "outputs": [],
   "source": [
    "#drop all 'I can't tell\"s\n",
    "df = df[df['emotion'] != \"I can't tell\"]"
   ]
  },
  {
   "cell_type": "code",
   "execution_count": 31,
   "id": "41ccc241-9d6e-4423-9ed2-4930893ebbe4",
   "metadata": {},
   "outputs": [
    {
     "data": {
      "text/plain": [
       "Apple     2402\n",
       "Google     721\n",
       "Name: category, dtype: int64"
      ]
     },
     "execution_count": 31,
     "metadata": {},
     "output_type": "execute_result"
    }
   ],
   "source": [
    "df['category'].value_counts()"
   ]
  },
  {
   "cell_type": "code",
   "execution_count": 33,
   "id": "455a7998-d623-4b7f-89e4-2a09c6b2a163",
   "metadata": {},
   "outputs": [],
   "source": [
    "# Tokenize a specific column (e.g., 'text_column')\n",
    "df['tokenized_text'] = df['tweet_text'].apply(word_tokenize)"
   ]
  },
  {
   "cell_type": "code",
   "execution_count": 34,
   "id": "49914980-1d1a-4eaf-8452-dd1843a97340",
   "metadata": {},
   "outputs": [
    {
     "data": {
      "text/html": [
       "<div>\n",
       "<style scoped>\n",
       "    .dataframe tbody tr th:only-of-type {\n",
       "        vertical-align: middle;\n",
       "    }\n",
       "\n",
       "    .dataframe tbody tr th {\n",
       "        vertical-align: top;\n",
       "    }\n",
       "\n",
       "    .dataframe thead th {\n",
       "        text-align: right;\n",
       "    }\n",
       "</style>\n",
       "<table border=\"1\" class=\"dataframe\">\n",
       "  <thead>\n",
       "    <tr style=\"text-align: right;\">\n",
       "      <th></th>\n",
       "      <th>tweet_text</th>\n",
       "      <th>emotion</th>\n",
       "      <th>category</th>\n",
       "      <th>tokenized_text</th>\n",
       "    </tr>\n",
       "  </thead>\n",
       "  <tbody>\n",
       "    <tr>\n",
       "      <th>0</th>\n",
       "      <td>wesley83 3g iphone 3 hrs tweeting riseaustin d...</td>\n",
       "      <td>Negative</td>\n",
       "      <td>Apple</td>\n",
       "      <td>[wesley83, 3g, iphone, 3, hrs, tweeting, risea...</td>\n",
       "    </tr>\n",
       "    <tr>\n",
       "      <th>1</th>\n",
       "      <td>jessedee know fludapp awesome ipadiphone app y...</td>\n",
       "      <td>Positive</td>\n",
       "      <td>Apple</td>\n",
       "      <td>[jessedee, know, fludapp, awesome, ipadiphone,...</td>\n",
       "    </tr>\n",
       "    <tr>\n",
       "      <th>2</th>\n",
       "      <td>swonderlin wait ipad 2 also sale sxsw</td>\n",
       "      <td>Positive</td>\n",
       "      <td>Apple</td>\n",
       "      <td>[swonderlin, wait, ipad, 2, also, sale, sxsw]</td>\n",
       "    </tr>\n",
       "    <tr>\n",
       "      <th>3</th>\n",
       "      <td>sxsw hope years festival isnt crashy years iph...</td>\n",
       "      <td>Negative</td>\n",
       "      <td>Apple</td>\n",
       "      <td>[sxsw, hope, years, festival, isnt, crashy, ye...</td>\n",
       "    </tr>\n",
       "    <tr>\n",
       "      <th>4</th>\n",
       "      <td>sxtxstate great stuff fri sxsw marissa mayer g...</td>\n",
       "      <td>Positive</td>\n",
       "      <td>Google</td>\n",
       "      <td>[sxtxstate, great, stuff, fri, sxsw, marissa, ...</td>\n",
       "    </tr>\n",
       "    <tr>\n",
       "      <th>...</th>\n",
       "      <td>...</td>\n",
       "      <td>...</td>\n",
       "      <td>...</td>\n",
       "      <td>...</td>\n",
       "    </tr>\n",
       "    <tr>\n",
       "      <th>9077</th>\n",
       "      <td>mention pr guy convinced switch back iphone gr...</td>\n",
       "      <td>Positive</td>\n",
       "      <td>Apple</td>\n",
       "      <td>[mention, pr, guy, convinced, switch, back, ip...</td>\n",
       "    </tr>\n",
       "    <tr>\n",
       "      <th>9079</th>\n",
       "      <td>quotpapyrussort like ipadquot nice lol sxsw la...</td>\n",
       "      <td>Positive</td>\n",
       "      <td>Apple</td>\n",
       "      <td>[quotpapyrussort, like, ipadquot, nice, lol, s...</td>\n",
       "    </tr>\n",
       "    <tr>\n",
       "      <th>9080</th>\n",
       "      <td>diller says google tv quotmight run playstatio...</td>\n",
       "      <td>Negative</td>\n",
       "      <td>Google</td>\n",
       "      <td>[diller, says, google, tv, quotmight, run, pla...</td>\n",
       "    </tr>\n",
       "    <tr>\n",
       "      <th>9085</th>\n",
       "      <td>ive always used camera iphone bc image stabili...</td>\n",
       "      <td>Positive</td>\n",
       "      <td>Apple</td>\n",
       "      <td>[ive, always, used, camera, iphone, bc, image,...</td>\n",
       "    </tr>\n",
       "    <tr>\n",
       "      <th>9088</th>\n",
       "      <td>ipad everywhere sxsw link</td>\n",
       "      <td>Positive</td>\n",
       "      <td>Apple</td>\n",
       "      <td>[ipad, everywhere, sxsw, link]</td>\n",
       "    </tr>\n",
       "  </tbody>\n",
       "</table>\n",
       "<p>3123 rows × 4 columns</p>\n",
       "</div>"
      ],
      "text/plain": [
       "                                             tweet_text   emotion category  \\\n",
       "0     wesley83 3g iphone 3 hrs tweeting riseaustin d...  Negative    Apple   \n",
       "1     jessedee know fludapp awesome ipadiphone app y...  Positive    Apple   \n",
       "2                 swonderlin wait ipad 2 also sale sxsw  Positive    Apple   \n",
       "3     sxsw hope years festival isnt crashy years iph...  Negative    Apple   \n",
       "4     sxtxstate great stuff fri sxsw marissa mayer g...  Positive   Google   \n",
       "...                                                 ...       ...      ...   \n",
       "9077  mention pr guy convinced switch back iphone gr...  Positive    Apple   \n",
       "9079  quotpapyrussort like ipadquot nice lol sxsw la...  Positive    Apple   \n",
       "9080  diller says google tv quotmight run playstatio...  Negative   Google   \n",
       "9085  ive always used camera iphone bc image stabili...  Positive    Apple   \n",
       "9088                          ipad everywhere sxsw link  Positive    Apple   \n",
       "\n",
       "                                         tokenized_text  \n",
       "0     [wesley83, 3g, iphone, 3, hrs, tweeting, risea...  \n",
       "1     [jessedee, know, fludapp, awesome, ipadiphone,...  \n",
       "2         [swonderlin, wait, ipad, 2, also, sale, sxsw]  \n",
       "3     [sxsw, hope, years, festival, isnt, crashy, ye...  \n",
       "4     [sxtxstate, great, stuff, fri, sxsw, marissa, ...  \n",
       "...                                                 ...  \n",
       "9077  [mention, pr, guy, convinced, switch, back, ip...  \n",
       "9079  [quotpapyrussort, like, ipadquot, nice, lol, s...  \n",
       "9080  [diller, says, google, tv, quotmight, run, pla...  \n",
       "9085  [ive, always, used, camera, iphone, bc, image,...  \n",
       "9088                     [ipad, everywhere, sxsw, link]  \n",
       "\n",
       "[3123 rows x 4 columns]"
      ]
     },
     "execution_count": 34,
     "metadata": {},
     "output_type": "execute_result"
    }
   ],
   "source": [
    "df"
   ]
  },
  {
   "cell_type": "code",
   "execution_count": 38,
   "id": "67eb5d70-2336-4cb5-9662-4cf4440860e4",
   "metadata": {},
   "outputs": [],
   "source": [
    "# Define a mapping dictionary\n",
    "emotion_mapping = {\n",
    "    'Positive': 2,\n",
    "    'Negative': 0,\n",
    "    'Neutral': 1\n",
    "}\n",
    "\n",
    "# Use the replace method to map the values in the 'emotion' column\n",
    "df['emotion_label'] = df['emotion'].replace(emotion_mapping)\n"
   ]
  },
  {
   "cell_type": "code",
   "execution_count": 39,
   "id": "7e17326e-9cb1-4fa1-a0fa-825d13793073",
   "metadata": {},
   "outputs": [
    {
     "data": {
      "text/html": [
       "<div>\n",
       "<style scoped>\n",
       "    .dataframe tbody tr th:only-of-type {\n",
       "        vertical-align: middle;\n",
       "    }\n",
       "\n",
       "    .dataframe tbody tr th {\n",
       "        vertical-align: top;\n",
       "    }\n",
       "\n",
       "    .dataframe thead th {\n",
       "        text-align: right;\n",
       "    }\n",
       "</style>\n",
       "<table border=\"1\" class=\"dataframe\">\n",
       "  <thead>\n",
       "    <tr style=\"text-align: right;\">\n",
       "      <th></th>\n",
       "      <th>tweet_text</th>\n",
       "      <th>emotion</th>\n",
       "      <th>category</th>\n",
       "      <th>tokenized_text</th>\n",
       "      <th>emotion_label</th>\n",
       "    </tr>\n",
       "  </thead>\n",
       "  <tbody>\n",
       "    <tr>\n",
       "      <th>0</th>\n",
       "      <td>wesley83 3g iphone 3 hrs tweeting riseaustin d...</td>\n",
       "      <td>Negative</td>\n",
       "      <td>Apple</td>\n",
       "      <td>[wesley83, 3g, iphone, 3, hrs, tweeting, risea...</td>\n",
       "      <td>0</td>\n",
       "    </tr>\n",
       "    <tr>\n",
       "      <th>1</th>\n",
       "      <td>jessedee know fludapp awesome ipadiphone app y...</td>\n",
       "      <td>Positive</td>\n",
       "      <td>Apple</td>\n",
       "      <td>[jessedee, know, fludapp, awesome, ipadiphone,...</td>\n",
       "      <td>2</td>\n",
       "    </tr>\n",
       "    <tr>\n",
       "      <th>2</th>\n",
       "      <td>swonderlin wait ipad 2 also sale sxsw</td>\n",
       "      <td>Positive</td>\n",
       "      <td>Apple</td>\n",
       "      <td>[swonderlin, wait, ipad, 2, also, sale, sxsw]</td>\n",
       "      <td>2</td>\n",
       "    </tr>\n",
       "    <tr>\n",
       "      <th>3</th>\n",
       "      <td>sxsw hope years festival isnt crashy years iph...</td>\n",
       "      <td>Negative</td>\n",
       "      <td>Apple</td>\n",
       "      <td>[sxsw, hope, years, festival, isnt, crashy, ye...</td>\n",
       "      <td>0</td>\n",
       "    </tr>\n",
       "    <tr>\n",
       "      <th>4</th>\n",
       "      <td>sxtxstate great stuff fri sxsw marissa mayer g...</td>\n",
       "      <td>Positive</td>\n",
       "      <td>Google</td>\n",
       "      <td>[sxtxstate, great, stuff, fri, sxsw, marissa, ...</td>\n",
       "      <td>2</td>\n",
       "    </tr>\n",
       "  </tbody>\n",
       "</table>\n",
       "</div>"
      ],
      "text/plain": [
       "                                          tweet_text   emotion category  \\\n",
       "0  wesley83 3g iphone 3 hrs tweeting riseaustin d...  Negative    Apple   \n",
       "1  jessedee know fludapp awesome ipadiphone app y...  Positive    Apple   \n",
       "2              swonderlin wait ipad 2 also sale sxsw  Positive    Apple   \n",
       "3  sxsw hope years festival isnt crashy years iph...  Negative    Apple   \n",
       "4  sxtxstate great stuff fri sxsw marissa mayer g...  Positive   Google   \n",
       "\n",
       "                                      tokenized_text  emotion_label  \n",
       "0  [wesley83, 3g, iphone, 3, hrs, tweeting, risea...              0  \n",
       "1  [jessedee, know, fludapp, awesome, ipadiphone,...              2  \n",
       "2      [swonderlin, wait, ipad, 2, also, sale, sxsw]              2  \n",
       "3  [sxsw, hope, years, festival, isnt, crashy, ye...              0  \n",
       "4  [sxtxstate, great, stuff, fri, sxsw, marissa, ...              2  "
      ]
     },
     "execution_count": 39,
     "metadata": {},
     "output_type": "execute_result"
    }
   ],
   "source": [
    "df.head()"
   ]
  },
  {
   "cell_type": "code",
   "execution_count": 45,
   "id": "9be1d7a6-b1ab-4192-beef-2bd58b7ec0dc",
   "metadata": {},
   "outputs": [
    {
     "data": {
      "text/plain": [
       "<class 'list'>    3123\n",
       "Name: tokenized_text, dtype: int64"
      ]
     },
     "execution_count": 45,
     "metadata": {},
     "output_type": "execute_result"
    }
   ],
   "source": [
    "df['tokenized_text'].apply(type).value_counts()"
   ]
  },
  {
   "cell_type": "markdown",
   "id": "6ec1a14d-860a-4359-9920-1ac9018b8421",
   "metadata": {},
   "source": [
    "## Modeling"
   ]
  },
  {
   "cell_type": "markdown",
   "id": "398b4c1c-8e61-4359-9227-6c252a3ff05c",
   "metadata": {},
   "source": [
    "For our modeling we iterated through a series of different models, lemming or stemming, and count vectorization or TF-IDF vectorization to find out which combination gave the best results. We picked AUC ROC score to measure results as we wanted our model to classify data the best, rather than focus on any one label. Our business problem is not sensitive towards positive, negative, or neutral results. For the same reason we displayed the average AUC ROC scores for different models across all emotion labels."
   ]
  },
  {
   "cell_type": "code",
   "execution_count": 70,
   "id": "9780d41e-e7a3-4f1d-ae1a-91149b4823b1",
   "metadata": {},
   "outputs": [
    {
     "data": {
      "image/png": "[encoded data removed]",
      "text/plain": [
       "<Figure size 1200x600 with 1 Axes>"
      ]
     },
     "metadata": {},
     "output_type": "display_data"
    }
   ],
   "source": [
    "# Split the data into training and test sets\n",
    "X_train, X_test, y_train, y_test = train_test_split(df['tokenized_text'], df['emotion_label'], test_size=0.25, random_state=42)\n",
    "\n",
    "# Define custom pre-processing functions for stemming and lemmatization\n",
    "stemmer = PorterStemmer()\n",
    "lemmatizer = WordNetLemmatizer()\n",
    "\n",
    "class TextPreprocessor(FunctionTransformer):\n",
    "    def __init__(self, method='lemmatize'):\n",
    "        self.method = method\n",
    "        super().__init__(validate=None)\n",
    "\n",
    "    def transform(self, X):\n",
    "        return X.apply(self._preprocess_text)\n",
    "\n",
    "    def _preprocess_text(self, text):\n",
    "        if isinstance(text, list):\n",
    "            # If 'text' is a list, join the tokens into a single string\n",
    "            text = ' '.join(text)\n",
    "\n",
    "        # Tokenize the text\n",
    "        tokens = nltk.word_tokenize(text)\n",
    "\n",
    "        # Apply stemming or lemmatization based on the chosen method\n",
    "        if self.method == 'stem':\n",
    "            processed_tokens = [stemmer.stem(token) for token in tokens]\n",
    "        else:\n",
    "            processed_tokens = [lemmatizer.lemmatize(token) for token in tokens]\n",
    "\n",
    "        # Join the processed tokens into a single string\n",
    "        processed_text = ' '.join(processed_tokens)\n",
    "\n",
    "        return processed_text\n",
    "\n",
    "# Create a list of vectorization options\n",
    "vectorization_options = [CountVectorizer(), TfidfVectorizer()]\n",
    "\n",
    "# Create a list of classification models\n",
    "models = [\n",
    "    ('Multinomial Naive Bayes', MultinomialNB()),\n",
    "    ('Logistic Regression', LogisticRegression(solver='liblinear')),\n",
    "    ('Random Forest', RandomForestClassifier())\n",
    "]\n",
    "\n",
    "# Create lists to store AUC-ROC scores and model names\n",
    "auc_roc_scores = []\n",
    "model_names = []\n",
    "\n",
    "# Create a figure and axis for the ROC curve plot\n",
    "plt.figure(figsize=(12, 6))\n",
    "\n",
    "# Create lists to store average AUC-ROC scores and model names\n",
    "average_auc_roc_scores = []\n",
    "\n",
    "# Iterate through all combinations of preprocessing, vectorization, and models\n",
    "for preprocessing_option in ['stem', 'lemmatize']:\n",
    "    for vectorization_option in vectorization_options:\n",
    "        for model_name, model in models:\n",
    "            # Create a pipeline with the current configuration\n",
    "            pipeline = Pipeline([\n",
    "                ('preprocess', TextPreprocessor(method=preprocessing_option)),\n",
    "                ('vectorize', vectorization_option),\n",
    "                ('model', model)\n",
    "            ])\n",
    "\n",
    "            # Fit the pipeline on the training data\n",
    "            pipeline.fit(X_train, y_train)\n",
    "\n",
    "            # Get class labels for multi-class classification\n",
    "            classes = pipeline.classes_\n",
    "\n",
    "            # Calculate the AUC-ROC scores for each class\n",
    "            auc_roc_class_scores = []\n",
    "\n",
    "            for class_index in range(len(classes)):\n",
    "                y_true = (y_test == classes[class_index]).astype(int)\n",
    "                y_pred_proba = pipeline.predict_proba(X_test)[:, class_index]\n",
    "                auc_roc = roc_auc_score(y_true, y_pred_proba)\n",
    "                auc_roc_class_scores.append(auc_roc)\n",
    "\n",
    "            # Calculate the mean AUC-ROC score across all classes\n",
    "            mean_auc_roc = np.mean(auc_roc_class_scores)\n",
    "\n",
    "            # Store the model name and average AUC-ROC score\n",
    "            model_names.append(f'{model_name} ({preprocessing_option}, {vectorization_option.__class__.__name__})')\n",
    "            average_auc_roc_scores.append(mean_auc_roc)\n",
    "\n",
    "        \n",
    "\n",
    "# Plot the average AUC-ROC scores for different models\n",
    "plt.barh(model_names, sorted(average_auc_roc_scores))\n",
    "plt.xlabel('Average AUC-ROC Score')\n",
    "plt.title('Average AUC-ROC Scores for Different Models and Preprocessing Methods')\n",
    "plt.gca().invert_yaxis()\n",
    "plt.show()"
   ]
  },
  {
   "cell_type": "markdown",
   "id": "0ef48e62-6fc0-4ec1-8244-c9eb1096d8ef",
   "metadata": {},
   "source": [
    "## Results"
   ]
  },
  {
   "cell_type": "markdown",
   "id": "16fb112f-bca5-47d7-95f4-a474c63b427c",
   "metadata": {},
   "source": [
    "Using the above bar chart, we can see that model using lemmatization, TF-IDF vectorization, and a Random Forest Classifier performed best.\n",
    "\n",
    "Across all of our findings we can see that Random Forest models consistently performed better than Log Regression or Multinomial NB, Lemming performed better than Stemming and TF-IDF performed better than Count. Therefore it checks out the a model comprised of the 3 best settings would perform the best overall."
   ]
  }
 ],
 "metadata": {
  "kernelspec": {
   "display_name": "Python 3 (ipykernel)",
   "language": "python",
   "name": "python3"
  },
  "language_info": {
   "codemirror_mode": {
    "name": "ipython",
    "version": 3
   },
   "file_extension": ".py",
   "mimetype": "text/x-python",
   "name": "python",
   "nbconvert_exporter": "python",
   "pygments_lexer": "ipython3",
   "version": "3.9.7"
  }
 },
 "nbformat": 4,
 "nbformat_minor": 5
}
